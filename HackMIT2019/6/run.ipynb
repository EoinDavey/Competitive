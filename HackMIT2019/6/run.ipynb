{
 "cells": [
  {
   "cell_type": "code",
   "execution_count": 1,
   "metadata": {},
   "outputs": [],
   "source": [
    "import matplotlib.pyplot as plt\n",
    "import numpy as np\n",
    "import reqd\n",
    "\n",
    "rimgs, rpreds, roids = reqd.load()"
   ]
  },
  {
   "cell_type": "code",
   "execution_count": 2,
   "metadata": {},
   "outputs": [
    {
     "name": "stdout",
     "output_type": "stream",
     "text": [
      "60000 100\n"
     ]
    }
   ],
   "source": [
    "import cifar\n",
    "\n",
    "cimgs, clbls = cifar.load()\n",
    "print len(cimgs), len(set(clbls))"
   ]
  },
  {
   "cell_type": "code",
   "execution_count": 3,
   "metadata": {},
   "outputs": [],
   "source": [
    "rhashes = []\n",
    "rmp = {}\n",
    "for i in xrange(len(rimgs)):\n",
    "    rhashes.append(hash(tuple(rimgs[i].flatten())))\n",
    "    rmp[rhashes[-1]] = i\n",
    "    \n",
    "chashes = []\n",
    "cmap = {}\n",
    "for i in xrange(len(cimgs)):\n",
    "    chashes.append(hash(tuple(cimgs[i].flatten())))\n",
    "    cmap[chashes[-1]] = i"
   ]
  },
  {
   "cell_type": "code",
   "execution_count": 5,
   "metadata": {},
   "outputs": [
    {
     "name": "stdout",
     "output_type": "stream",
     "text": [
      "25871\n"
     ]
    }
   ],
   "source": [
    "mp = {}\n",
    "\n",
    "for i in xrange(len(rimgs)):\n",
    "    r = rimgs[i]\n",
    "    ind = cmap[rhashes[i]]\n",
    "    if np.array_equal(r,cimgs[ind]):\n",
    "        mp[i] = ind\n",
    "    else:\n",
    "        print \"oop\"\n",
    "        break\n",
    "print len(mp)"
   ]
  },
  {
   "cell_type": "code",
   "execution_count": 7,
   "metadata": {},
   "outputs": [
    {
     "name": "stdout",
     "output_type": "stream",
     "text": [
      "WARNING:tensorflow:From /home/eoin/HackMIT19/6/local/lib/python2.7/site-packages/tensorflow/python/framework/op_def_library.py:263: colocate_with (from tensorflow.python.framework.ops) is deprecated and will be removed in a future version.\n",
      "Instructions for updating:\n",
      "Colocations handled automatically by placer.\n",
      "WARNING:tensorflow:From /home/eoin/HackMIT19/6/local/lib/python2.7/site-packages/tensorflow/python/ops/math_ops.py:3066: to_int32 (from tensorflow.python.ops.math_ops) is deprecated and will be removed in a future version.\n",
      "Instructions for updating:\n",
      "Use tf.cast instead.\n"
     ]
    }
   ],
   "source": [
    "import keras\n",
    "model = keras.models.load_model('saved_models/gen_model.h5')"
   ]
  },
  {
   "cell_type": "code",
   "execution_count": 9,
   "metadata": {},
   "outputs": [],
   "source": [
    "inps = np.empty((len(rimgs), 200))\n",
    "for i in xrange(len(rimgs)):\n",
    "    j = mp[i]\n",
    "    tgt = np.zeros(100, dtype='float32')\n",
    "    tgt[clbls[j]] = 1.0\n",
    "    vec = np.concatenate((rpreds[i], tgt))\n",
    "    inps[i,:] = vec"
   ]
  },
  {
   "cell_type": "code",
   "execution_count": 10,
   "metadata": {},
   "outputs": [],
   "source": [
    "outs = model.predict(inps)"
   ]
  },
  {
   "cell_type": "code",
   "execution_count": 11,
   "metadata": {},
   "outputs": [
    {
     "data": {
      "text/plain": [
       "(25871, 2)"
      ]
     },
     "execution_count": 11,
     "metadata": {},
     "output_type": "execute_result"
    }
   ],
   "source": [
    "outs.shape"
   ]
  },
  {
   "cell_type": "code",
   "execution_count": 12,
   "metadata": {},
   "outputs": [
    {
     "data": {
      "text/plain": [
       "array([0.13608755, 0.86391246], dtype=float32)"
      ]
     },
     "execution_count": 12,
     "metadata": {},
     "output_type": "execute_result"
    }
   ],
   "source": [
    "outs[0]"
   ]
  },
  {
   "cell_type": "code",
   "execution_count": 17,
   "metadata": {},
   "outputs": [],
   "source": [
    "s = sorted(range(len(rimgs)), key=lambda x: outs[x][1], reverse=True)"
   ]
  },
  {
   "cell_type": "code",
   "execution_count": 18,
   "metadata": {},
   "outputs": [],
   "source": [
    "ans = ','.join(map(lambda x: roids[x], s[:1000]))"
   ]
  },
  {
   "cell_type": "code",
   "execution_count": 19,
   "metadata": {},
   "outputs": [],
   "source": [
    "with open('test.csv','w') as f:\n",
    "    f.write(ans)"
   ]
  },
  {
   "cell_type": "code",
   "execution_count": 20,
   "metadata": {},
   "outputs": [
    {
     "name": "stdout",
     "output_type": "stream",
     "text": [
      "[0.9746182, 0.9746182, 0.9746182, 0.97461796, 0.9746177, 0.9746177, 0.97461754, 0.97461706, 0.97461694, 0.97461694]\n"
     ]
    }
   ],
   "source": [
    "print map(lambda x: outs[x][1], s[:10])"
   ]
  }
 ],
 "metadata": {
  "kernelspec": {
   "display_name": "Python 2",
   "language": "python",
   "name": "python2"
  },
  "language_info": {
   "codemirror_mode": {
    "name": "ipython",
    "version": 2
   },
   "file_extension": ".py",
   "mimetype": "text/x-python",
   "name": "python",
   "nbconvert_exporter": "python",
   "pygments_lexer": "ipython2",
   "version": "2.7.15+"
  }
 },
 "nbformat": 4,
 "nbformat_minor": 2
}
