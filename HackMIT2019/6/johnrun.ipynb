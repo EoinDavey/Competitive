{
 "cells": [
  {
   "cell_type": "code",
   "execution_count": 3,
   "metadata": {},
   "outputs": [
    {
     "name": "stdout",
     "output_type": "stream",
     "text": [
      "25223\n"
     ]
    },
    {
     "data": {
      "image/png": "[encoded data removed]",
      "text/plain": [
       "<Figure size 432x288 with 1 Axes>"
      ]
     },
     "metadata": {
      "needs_background": "light"
     },
     "output_type": "display_data"
    }
   ],
   "source": [
    "%matplotlib inline\n",
    "import json\n",
    "import base64\n",
    "import imageio\n",
    "import matplotlib.pyplot as plt\n",
    "import numpy as np\n",
    "import reqd\n",
    "\n",
    "rimgs, rpreds, roids = reqd.load()\n",
    "plt.imshow(rimgs[0])\n",
    "\n",
    "print(len(rimgs))"
   ]
  },
  {
   "cell_type": "code",
   "execution_count": 4,
   "metadata": {},
   "outputs": [
    {
     "name": "stderr",
     "output_type": "stream",
     "text": [
      "Using TensorFlow backend.\n"
     ]
    },
    {
     "name": "stdout",
     "output_type": "stream",
     "text": [
      "Downloading data from https://www.cs.toronto.edu/~kriz/cifar-100-python.tar.gz\n",
      "169009152/169001437 [==============================] - 102s 1us/step\n",
      "169017344/169001437 [==============================] - 102s 1us/step\n",
      "60000\n"
     ]
    }
   ],
   "source": [
    "%matplotlib inline\n",
    "from keras.datasets import cifar100\n",
    "\n",
    "(x_train, y_train), (x_test, y_test) = cifar100.load_data(label_mode='fine')\n",
    "cimgs = np.concatenate((x_train,x_test))\n",
    "clbls = np.concatenate((y_train,y_test))\n",
    "print(len(cimgs))"
   ]
  },
  {
   "cell_type": "code",
   "execution_count": 5,
   "metadata": {},
   "outputs": [],
   "source": [
    "rhashes = []\n",
    "for i in range(0,len(rimgs)):\n",
    "    rhashes.append(hash(tuple(rimgs[i].flatten())))\n",
    "    \n",
    "chashes = []\n",
    "for i in range(0,len(cimgs)):\n",
    "    chashes.append(hash(tuple(cimgs[i].flatten())))"
   ]
  },
  {
   "cell_type": "code",
   "execution_count": 6,
   "metadata": {},
   "outputs": [
    {
     "name": "stdout",
     "output_type": "stream",
     "text": [
      "25223\n"
     ]
    }
   ],
   "source": [
    "%matplotlib inline\n",
    "\n",
    "mp = {}\n",
    "\n",
    "for i in range(0,len(rimgs)):\n",
    "    #print(i)\n",
    "    r = rimgs[i]\n",
    "    found = False\n",
    "    for j in range(0,len(cimgs)):\n",
    "        c = cimgs[j]\n",
    "        #plt.imshow(c)\n",
    "        if rhashes[i] == chashes[j] and np.array_equal(r,c):\n",
    "            mp[i] = j\n",
    "            found=True\n",
    "            break\n",
    "    if not found:\n",
    "        print(i)\n",
    "        print(\"not found\")\n",
    "        plt.imshow(r)\n",
    "        plt.show()\n",
    "        break\n",
    "\n",
    "print(len(mp))"
   ]
  },
  {
   "cell_type": "code",
   "execution_count": 7,
   "metadata": {},
   "outputs": [],
   "source": [
    "#cross entropy loss is the goal, so shouldn’t we maximise that?\n",
    "import math\n",
    "scrs = []\n",
    "acc = []\n",
    "def cross_entropy(y,y_hat):\n",
    "    #print(y)\n",
    "    #print(y_hat)\n",
    "    return -sum(map( (lambda a,b: a*math.log(b+1e-15)),y,y_hat))\n",
    "for i in range(0,len(rimgs)):\n",
    "    pred = rpreds[i]\n",
    "    label = clbls[mp[i]][0]\n",
    "    tgt = np.zeros(100)\n",
    "    tgt[label] = 1.0\n",
    "    scrs.append(cross_entropy(tgt,pred))\n",
    "    #print(label)\n",
    "    acc.append(pred[label])\n"
   ]
  },
  {
   "cell_type": "code",
   "execution_count": 8,
   "metadata": {},
   "outputs": [
    {
     "name": "stdout",
     "output_type": "stream",
     "text": [
      "0.5750515715577238\n",
      "1.0\n"
     ]
    },
    {
     "data": {
      "text/plain": [
       "[<matplotlib.lines.Line2D at 0x7f49cd7d8f50>]"
      ]
     },
     "execution_count": 8,
     "metadata": {},
     "output_type": "execute_result"
    },
    {
     "data": {
      "image/png": "[encoded data removed]",
      "text/plain": [
       "<Figure size 432x288 with 1 Axes>"
      ]
     },
     "metadata": {
      "needs_background": "light"
     },
     "output_type": "display_data"
    }
   ],
   "source": [
    "srted=sorted(range(0,len(rimgs)), key=lambda x: scrs[x])\n",
    "print(np.average(acc))\n",
    "print(acc[srted[1000]])\n",
    "plt.plot(list(map(lambda x:scrs[x],srted)))"
   ]
  },
  {
   "cell_type": "code",
   "execution_count": 11,
   "metadata": {},
   "outputs": [],
   "source": [
    "import random\n",
    "\n",
    "nums = list(map(lambda x: roids[x], srted[3500:4500]))\n",
    "#print(nums)\n",
    "sample = random.sample(nums,1000)\n",
    "res = ','.join(sample)\n",
    "with open('outjohn.csv', 'w') as f:\n",
    "    f.write(res)"
   ]
  },
  {
   "cell_type": "code",
   "execution_count": null,
   "metadata": {},
   "outputs": [],
   "source": []
  }
 ],
 "metadata": {
  "kernelspec": {
   "display_name": "Python 2",
   "language": "python",
   "name": "python2"
  },
  "language_info": {
   "codemirror_mode": {
    "name": "ipython",
    "version": 2
   },
   "file_extension": ".py",
   "mimetype": "text/x-python",
   "name": "python",
   "nbconvert_exporter": "python",
   "pygments_lexer": "ipython2",
   "version": "2.7.15+"
  }
 },
 "nbformat": 4,
 "nbformat_minor": 2
}
