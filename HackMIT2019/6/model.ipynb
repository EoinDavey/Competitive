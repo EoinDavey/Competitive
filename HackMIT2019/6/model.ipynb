{
 "cells": [
  {
   "cell_type": "markdown",
   "metadata": {},
   "source": [
    "# HackMIT19 Puzzle 6"
   ]
  },
  {
   "cell_type": "markdown",
   "metadata": {},
   "source": [
    "## Imports"
   ]
  },
  {
   "cell_type": "code",
   "execution_count": 1,
   "metadata": {},
   "outputs": [
    {
     "name": "stderr",
     "output_type": "stream",
     "text": [
      "Using TensorFlow backend.\n"
     ]
    }
   ],
   "source": [
    "import keras\n",
    "from keras.models import Sequential\n",
    "from keras.layers import Dense, Dropout, Activation, Flatten\n",
    "from keras.layers import Conv2D, MaxPooling2D\n",
    "import cifar\n",
    "import numpy as np\n",
    "import os\n",
    "import reqd"
   ]
  },
  {
   "cell_type": "markdown",
   "metadata": {},
   "source": [
    "## Constants"
   ]
  },
  {
   "cell_type": "code",
   "execution_count": 2,
   "metadata": {},
   "outputs": [],
   "source": [
    "num_classes = 100\n",
    "epochs = 15\n",
    "save_dir = os.path.join(os.getcwd(), 'saved_models')\n",
    "model_name = 'keras_cifar100_trained_model.h5'\n",
    "model_path = os.path.join(save_dir, model_name)"
   ]
  },
  {
   "cell_type": "markdown",
   "metadata": {},
   "source": [
    "## Load cifar100 images\n",
    "Load cifar 100 images and divide into 50/50 train test randomly"
   ]
  },
  {
   "cell_type": "code",
   "execution_count": 3,
   "metadata": {},
   "outputs": [
    {
     "name": "stdout",
     "output_type": "stream",
     "text": [
      "int64\n"
     ]
    }
   ],
   "source": [
    "# Load all cifar images\n",
    "cimgs, clbls = cifar.load()\n",
    "assert(len(set(clbls))==num_classes) # Ensure all labels are present\n",
    "Ncimgs = len(cimgs)\n",
    "\n",
    "# Convert image matrices to float32 and normalise\n",
    "cimgs = np.array(cimgs, dtype='float32')\n",
    "cimgs /= 255\n",
    "print clbls.dtype"
   ]
  },
  {
   "cell_type": "markdown",
   "metadata": {},
   "source": [
    "## Function to return random 50/50 split of CIFAR-100 images"
   ]
  },
  {
   "cell_type": "code",
   "execution_count": 4,
   "metadata": {},
   "outputs": [],
   "source": [
    "def randimgs():\n",
    "    # random divide into train/test\n",
    "    perm = np.random.permutation(np.arange(Ncimgs))\n",
    "\n",
    "    train_inds = perm[:Ncimgs/2]\n",
    "    test_inds = perm[Ncimgs/2:]\n",
    "    \n",
    "    train_x = cimgs[train_inds]\n",
    "    train_y = clbls[train_inds]\n",
    "    test_x = cimgs[test_inds]\n",
    "    test_y = clbls[test_inds]\n",
    "    assert(len(train_x)==len(test_x) and len(train_x) + len(test_y) == Ncimgs)\n",
    "\n",
    "    # Convert class vectors to binary class matrices.\n",
    "    train_y = keras.utils.to_categorical(train_y, num_classes)\n",
    "    test_y = keras.utils.to_categorical(test_y, num_classes)\n",
    "    print test_y.dtype\n",
    "    \n",
    "    assert(train_y.shape == (Ncimgs/2, num_classes))\n",
    "    return (train_x, train_y), (test_x, test_y), (train_inds, test_inds)"
   ]
  },
  {
   "cell_type": "markdown",
   "metadata": {},
   "source": [
    "## Construct HackMIT model\n",
    "Construct the HackMIT model as given in the description of the puzzle"
   ]
  },
  {
   "cell_type": "code",
   "execution_count": 5,
   "metadata": {},
   "outputs": [],
   "source": [
    "def createMITModel():\n",
    "    # Construct model\n",
    "    mitmdl = Sequential()\n",
    "    mitmdl.add(Conv2D(64, (3, 3), input_shape=(32,32,3), padding='same', activation='relu'))\n",
    "    mitmdl.add(Conv2D(64, (3, 3), activation='relu'))\n",
    "    mitmdl.add(MaxPooling2D(pool_size=(2, 2)))\n",
    "    mitmdl.add(Flatten())\n",
    "    mitmdl.add(Dense(512, activation='relu'))\n",
    "    mitmdl.add(Dense(256, activation='relu'))\n",
    "    mitmdl.add(Dense(100, activation='softmax'))\n",
    "    # compile model\n",
    "    mitmdl.compile(loss='categorical_crossentropy',\n",
    "                  optimizer='adam',\n",
    "                  metrics=['accuracy'])\n",
    "    return mitmdl"
   ]
  },
  {
   "cell_type": "markdown",
   "metadata": {},
   "source": [
    "## Function to generate input samples for classification\n",
    "Creates a model to the HackMIT specification and runs a random split of cifar images through it. Then creates the input and expected output for binary classifcation of test/training"
   ]
  },
  {
   "cell_type": "code",
   "execution_count": 6,
   "metadata": {},
   "outputs": [],
   "source": [
    "def getSamples(batch_size=128):\n",
    "    mitmdl = createMITModel()\n",
    "    (train_x, train_y), (test_x, test_y), (train_inds, test_inds) = randimgs()\n",
    "    mitmdl.fit(train_x, train_y,\n",
    "          batch_size=batch_size,\n",
    "          epochs=epochs,\n",
    "          validation_data=(test_x, test_y),\n",
    "          shuffle=True)\n",
    "    \n",
    "    outs = mitmdl.predict(cimgs)\n",
    "    ln = len(outs)\n",
    "    X = np.empty((ln, 200))\n",
    "    y = np.empty(ln)\n",
    "    cnt = 0\n",
    "    for x in train_inds:\n",
    "        tgt = np.zeros(100, dtype='float32')\n",
    "        tgt[clbls[x]] = 1.0\n",
    "        X[cnt, :] = np.concatenate((outs[x, :], tgt))\n",
    "        y[cnt] = 1\n",
    "        cnt += 1\n",
    "\n",
    "    for x in test_inds:\n",
    "        tgt = np.zeros(100, dtype='float32')\n",
    "        tgt[clbls[x]] = 1.0\n",
    "        X[cnt, :] = np.concatenate((outs[x, :], tgt))\n",
    "        y[cnt] = 0\n",
    "        cnt += 1\n",
    "\n",
    "    assert(cnt == ln)\n",
    "\n",
    "    y = keras.utils.to_categorical(y, 2)\n",
    "    return X, y"
   ]
  },
  {
   "cell_type": "code",
   "execution_count": 7,
   "metadata": {},
   "outputs": [
    {
     "name": "stdout",
     "output_type": "stream",
     "text": [
      "WARNING:tensorflow:From /home/eoin/HackMIT19/6/local/lib/python2.7/site-packages/tensorflow/python/framework/op_def_library.py:263: colocate_with (from tensorflow.python.framework.ops) is deprecated and will be removed in a future version.\n",
      "Instructions for updating:\n",
      "Colocations handled automatically by placer.\n",
      "float32\n",
      "WARNING:tensorflow:From /home/eoin/HackMIT19/6/local/lib/python2.7/site-packages/tensorflow/python/ops/math_ops.py:3066: to_int32 (from tensorflow.python.ops.math_ops) is deprecated and will be removed in a future version.\n",
      "Instructions for updating:\n",
      "Use tf.cast instead.\n",
      "Train on 30000 samples, validate on 30000 samples\n",
      "Epoch 1/15\n",
      "30000/30000 [==============================] - 25s 820us/step - loss: 3.9211 - acc: 0.1063 - val_loss: 3.4337 - val_acc: 0.1802\n",
      "Epoch 2/15\n",
      "30000/30000 [==============================] - 21s 683us/step - loss: 3.0856 - acc: 0.2454 - val_loss: 3.0165 - val_acc: 0.2635\n",
      "Epoch 3/15\n",
      "30000/30000 [==============================] - 20s 672us/step - loss: 2.5484 - acc: 0.3555 - val_loss: 2.8250 - val_acc: 0.3043\n",
      "Epoch 4/15\n",
      "30000/30000 [==============================] - 23s 765us/step - loss: 2.0335 - acc: 0.4655 - val_loss: 2.8563 - val_acc: 0.3126\n",
      "Epoch 5/15\n",
      "30000/30000 [==============================] - 20s 657us/step - loss: 1.5015 - acc: 0.5904 - val_loss: 2.9889 - val_acc: 0.3177\n",
      "Epoch 6/15\n",
      "30000/30000 [==============================] - 21s 694us/step - loss: 0.9737 - acc: 0.7293 - val_loss: 3.4217 - val_acc: 0.3179\n",
      "Epoch 7/15\n",
      "30000/30000 [==============================] - 24s 797us/step - loss: 0.5776 - acc: 0.8371 - val_loss: 3.8798 - val_acc: 0.3076\n",
      "Epoch 8/15\n",
      "30000/30000 [==============================] - 23s 764us/step - loss: 0.3190 - acc: 0.9115 - val_loss: 4.5368 - val_acc: 0.3047\n",
      "Epoch 9/15\n",
      "30000/30000 [==============================] - 21s 688us/step - loss: 0.1955 - acc: 0.9457 - val_loss: 5.1188 - val_acc: 0.3032\n",
      "Epoch 10/15\n",
      "30000/30000 [==============================] - 21s 705us/step - loss: 0.1368 - acc: 0.9622 - val_loss: 5.3927 - val_acc: 0.3030\n",
      "Epoch 11/15\n",
      "30000/30000 [==============================] - 19s 637us/step - loss: 0.1346 - acc: 0.9605 - val_loss: 5.5869 - val_acc: 0.2989\n",
      "Epoch 12/15\n",
      "30000/30000 [==============================] - 20s 650us/step - loss: 0.1355 - acc: 0.9610 - val_loss: 5.7957 - val_acc: 0.2891\n",
      "Epoch 13/15\n",
      "30000/30000 [==============================] - 21s 684us/step - loss: 0.1171 - acc: 0.9645 - val_loss: 5.8556 - val_acc: 0.2980\n",
      "Epoch 14/15\n",
      "30000/30000 [==============================] - 21s 705us/step - loss: 0.0811 - acc: 0.9778 - val_loss: 6.0145 - val_acc: 0.3025\n",
      "Epoch 15/15\n",
      "30000/30000 [==============================] - 23s 773us/step - loss: 0.0705 - acc: 0.9787 - val_loss: 6.2871 - val_acc: 0.2974\n",
      "float32\n",
      "Train on 30000 samples, validate on 30000 samples\n",
      "Epoch 1/15\n",
      "30000/30000 [==============================] - 20s 652us/step - loss: 3.9051 - acc: 0.1115 - val_loss: 3.4484 - val_acc: 0.1758\n",
      "Epoch 2/15\n",
      "30000/30000 [==============================] - 19s 635us/step - loss: 3.0561 - acc: 0.2567 - val_loss: 3.0229 - val_acc: 0.2575\n",
      "Epoch 3/15\n",
      "30000/30000 [==============================] - 19s 626us/step - loss: 2.5804 - acc: 0.3473 - val_loss: 2.8568 - val_acc: 0.2950\n",
      "Epoch 4/15\n",
      "30000/30000 [==============================] - 19s 630us/step - loss: 2.1543 - acc: 0.4375 - val_loss: 2.8710 - val_acc: 0.3056\n",
      "Epoch 5/15\n",
      "30000/30000 [==============================] - 21s 691us/step - loss: 1.7035 - acc: 0.5374 - val_loss: 3.0196 - val_acc: 0.3053\n",
      "Epoch 6/15\n",
      "30000/30000 [==============================] - 22s 721us/step - loss: 1.2357 - acc: 0.6540 - val_loss: 3.2825 - val_acc: 0.3040\n",
      "Epoch 7/15\n",
      "30000/30000 [==============================] - 19s 619us/step - loss: 0.8167 - acc: 0.7679 - val_loss: 3.7264 - val_acc: 0.2975\n",
      "Epoch 8/15\n",
      "30000/30000 [==============================] - 19s 619us/step - loss: 0.5021 - acc: 0.8565 - val_loss: 4.3648 - val_acc: 0.2979\n",
      "Epoch 9/15\n",
      "30000/30000 [==============================] - 19s 645us/step - loss: 0.3179 - acc: 0.9071 - val_loss: 4.8281 - val_acc: 0.2962\n",
      "Epoch 10/15\n",
      "30000/30000 [==============================] - 19s 631us/step - loss: 0.2246 - acc: 0.9339 - val_loss: 5.2658 - val_acc: 0.2946\n",
      "Epoch 11/15\n",
      "30000/30000 [==============================] - 19s 619us/step - loss: 0.1890 - acc: 0.9436 - val_loss: 5.6498 - val_acc: 0.2932\n",
      "Epoch 12/15\n",
      "30000/30000 [==============================] - 19s 619us/step - loss: 0.1561 - acc: 0.9530 - val_loss: 5.8201 - val_acc: 0.2902\n",
      "Epoch 13/15\n",
      "30000/30000 [==============================] - 19s 621us/step - loss: 0.1284 - acc: 0.9624 - val_loss: 6.0562 - val_acc: 0.2922\n",
      "Epoch 14/15\n",
      "30000/30000 [==============================] - 19s 619us/step - loss: 0.1412 - acc: 0.9567 - val_loss: 6.1480 - val_acc: 0.2890\n",
      "Epoch 15/15\n",
      "30000/30000 [==============================] - 18s 613us/step - loss: 0.1191 - acc: 0.9631 - val_loss: 6.1257 - val_acc: 0.2941\n",
      "(120000, 200) (120000, 2)\n",
      "Length 120000\n",
      "Tst count 18000\n"
     ]
    }
   ],
   "source": [
    "nsamples = 2\n",
    "xs = []\n",
    "ys = []\n",
    "for i in xrange(nsamples):\n",
    "    X, y = getSamples()\n",
    "    xs.append(X)\n",
    "    ys.append(y)\n",
    "\n",
    "X = np.concatenate(xs)\n",
    "y = np.concatenate(ys)\n",
    "print X.shape, y.shape\n",
    "ln = len(X)\n",
    "print \"Length\", ln\n",
    "\n",
    "# Random shuffle\n",
    "TSTcnt = int(ln*0.15)\n",
    "print \"Tst count\", TSTcnt\n",
    "idx = np.random.permutation(np.arange(ln))\n",
    "Xtrain = X[idx[TSTcnt:]]\n",
    "ytrain = y[idx[TSTcnt:]]\n",
    "Xtst = X[idx[:TSTcnt]]\n",
    "ytst = y[idx[:TSTcnt]]"
   ]
  },
  {
   "cell_type": "code",
   "execution_count": 8,
   "metadata": {
    "scrolled": true
   },
   "outputs": [
    {
     "name": "stdout",
     "output_type": "stream",
     "text": [
      "Train on 102000 samples, validate on 18000 samples\n",
      "Epoch 1/15\n",
      "102000/102000 [==============================] - 4s 35us/step - loss: 0.3773 - acc: 0.8385 - val_loss: 0.3512 - val_acc: 0.8538\n",
      "Epoch 2/15\n",
      "102000/102000 [==============================] - 3s 29us/step - loss: 0.3376 - acc: 0.8591 - val_loss: 0.3473 - val_acc: 0.8529\n",
      "Epoch 3/15\n",
      "102000/102000 [==============================] - 3s 31us/step - loss: 0.3329 - acc: 0.8601 - val_loss: 0.3482 - val_acc: 0.8519\n",
      "Epoch 4/15\n",
      "102000/102000 [==============================] - 3s 30us/step - loss: 0.3288 - acc: 0.8618 - val_loss: 0.3479 - val_acc: 0.8541\n",
      "Epoch 5/15\n",
      "102000/102000 [==============================] - 3s 30us/step - loss: 0.3270 - acc: 0.8624 - val_loss: 0.3473 - val_acc: 0.8535\n",
      "Epoch 6/15\n",
      "102000/102000 [==============================] - 3s 30us/step - loss: 0.3245 - acc: 0.8634 - val_loss: 0.3451 - val_acc: 0.8558\n",
      "Epoch 7/15\n",
      "102000/102000 [==============================] - 3s 31us/step - loss: 0.3216 - acc: 0.8642 - val_loss: 0.3470 - val_acc: 0.8563\n",
      "Epoch 8/15\n",
      "102000/102000 [==============================] - 3s 29us/step - loss: 0.3200 - acc: 0.8645 - val_loss: 0.3453 - val_acc: 0.8563\n",
      "Epoch 9/15\n",
      "102000/102000 [==============================] - 3s 30us/step - loss: 0.3181 - acc: 0.8647 - val_loss: 0.3468 - val_acc: 0.8576\n",
      "Epoch 10/15\n",
      "102000/102000 [==============================] - 3s 30us/step - loss: 0.3163 - acc: 0.8653 - val_loss: 0.3518 - val_acc: 0.8569\n",
      "Epoch 11/15\n",
      "102000/102000 [==============================] - 3s 30us/step - loss: 0.3145 - acc: 0.8658 - val_loss: 0.3560 - val_acc: 0.8559\n",
      "Epoch 12/15\n",
      "102000/102000 [==============================] - 3s 31us/step - loss: 0.3136 - acc: 0.8669 - val_loss: 0.3480 - val_acc: 0.8563\n",
      "Epoch 13/15\n",
      "102000/102000 [==============================] - 3s 34us/step - loss: 0.3125 - acc: 0.8671 - val_loss: 0.3526 - val_acc: 0.8559\n",
      "Epoch 14/15\n",
      "102000/102000 [==============================] - 3s 34us/step - loss: 0.3115 - acc: 0.8676 - val_loss: 0.3520 - val_acc: 0.8564\n",
      "Epoch 15/15\n",
      "102000/102000 [==============================] - 4s 35us/step - loss: 0.3105 - acc: 0.8679 - val_loss: 0.3564 - val_acc: 0.8569\n"
     ]
    },
    {
     "data": {
      "text/plain": [
       "<keras.callbacks.History at 0x7ff0f2b1ccd0>"
      ]
     },
     "execution_count": 8,
     "metadata": {},
     "output_type": "execute_result"
    }
   ],
   "source": [
    "model = Sequential()\n",
    "model.add(Dense(100, activation='relu'))\n",
    "model.add(Dense(50, activation='relu'))\n",
    "model.add(Dense(50, activation='relu'))\n",
    "model.add(Dense(25, activation='relu'))\n",
    "model.add(Dense(2, activation='softmax'))\n",
    "# compile model\n",
    "model.compile(loss='categorical_crossentropy',\n",
    "              optimizer='adam',\n",
    "              metrics=['accuracy'])\n",
    "model.fit(Xtrain, ytrain, batch_size=100, epochs=15, shuffle=True, validation_data=(Xtst,ytst))"
   ]
  }
 ],
 "metadata": {
  "kernelspec": {
   "display_name": "Python 2",
   "language": "python",
   "name": "python2"
  },
  "language_info": {
   "codemirror_mode": {
    "name": "ipython",
    "version": 2
   },
   "file_extension": ".py",
   "mimetype": "text/x-python",
   "name": "python",
   "nbconvert_exporter": "python",
   "pygments_lexer": "ipython2",
   "version": "2.7.15+"
  }
 },
 "nbformat": 4,
 "nbformat_minor": 2
}
