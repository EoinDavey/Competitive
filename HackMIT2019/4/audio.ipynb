{
 "cells": [
  {
   "cell_type": "markdown",
   "metadata": {},
   "source": [
    "## Input"
   ]
  },
  {
   "cell_type": "code",
   "execution_count": null,
   "metadata": {},
   "outputs": [],
   "source": [
    "import librosa, librosa.display, librosa.feature\n",
    "import numpy as np\n",
    "import matplotlib.pyplot as plt\n",
    "import IPython.display as ipd\n",
    "dur = 2\n",
    "\n",
    "files = ['fort_smith.mp3', 'syracuse.mp3', 'idaho.mp3']\n",
    "N = len(files)\n",
    "\n",
    "ys = []\n",
    "srs = []\n",
    "for f in files:\n",
    "    print f\n",
    "    y, sr = librosa.load(f, sr=None, duration=dur)\n",
    "    ys.append(y)\n",
    "    srs.append(sr)\n",
    "    ipd.display(ipd.Audio(y, rate=sr))"
   ]
  },
  {
   "cell_type": "code",
   "execution_count": null,
   "metadata": {
    "scrolled": true
   },
   "outputs": [],
   "source": [
    "%matplotlib inline\n",
    "\n",
    "ss = []\n",
    "NFFT=4096\n",
    "\n",
    "for i in xrange(len(files)):\n",
    "    f = files[i]\n",
    "    y = ys[i]\n",
    "    sr = srs[i]\n",
    "\n",
    "    s = np.abs(librosa.stft(y, n_fft=NFFT))\n",
    "    ss.append(s)\n",
    "\n",
    "    fig = plt.figure(figsize=(16,16),facecolor='white')\n",
    "    fig.suptitle(f)\n",
    "\n",
    "    plt.subplot(2, 2, 1)\n",
    "    librosa.display.specshow(librosa.amplitude_to_db(s,ref=np.max), y_axis='log', x_axis='time', sr=sr, hop_length=NFFT/4)\n",
    "    plt.colorbar()\n",
    "\n",
    "    plt.subplot(2, 2, 2)\n",
    "    librosa.display.waveplot(y, sr=sr)\n",
    "\n",
    "    plt.subplot(2,2,3)\n",
    "    c = librosa.feature.chroma_stft(S=s**2, sr=sr)\n",
    "    librosa.display.specshow(c, y_axis='chroma', x_axis='time', sr=sr, hop_length=NFFT/4)\n",
    "    plt.colorbar()\n"
   ]
  },
  {
   "cell_type": "code",
   "execution_count": null,
   "metadata": {},
   "outputs": [],
   "source": [
    "for i in xrange(N):\n",
    "    f = files[i]\n",
    "    sr = srs[i]\n",
    "    freqs = librosa.fft_frequencies(n_fft=NFFT, sr=sr)\n",
    "    times = np.arange(0.1, dur, 0.2)\n",
    "    frames = librosa.time_to_frames(np.arange(0.1,dur,0.2), sr=sr, n_fft=NFFT, hop_length=NFFT/4)\n",
    "    \n",
    "    s = ss[i]\n",
    "    \n",
    "    o = []\n",
    "    hz = []\n",
    "    for t in frames:\n",
    "        o.append(librosa.hz_to_note(freqs[np.argmax(s[:,t])], octave=False))\n",
    "    print f, ', '.join(o)\n",
    "    "
   ]
  },
  {
   "cell_type": "code",
   "execution_count": null,
   "metadata": {},
   "outputs": [],
   "source": [
    "librosa.hz_to_note(635)"
   ]
  },
  {
   "cell_type": "code",
   "execution_count": null,
   "metadata": {},
   "outputs": [],
   "source": []
  }
 ],
 "metadata": {
  "kernelspec": {
   "display_name": "Python 3 (ipykernel)",
   "language": "python",
   "name": "python3"
  },
  "language_info": {
   "codemirror_mode": {
    "name": "ipython",
    "version": 3
   },
   "file_extension": ".py",
   "mimetype": "text/x-python",
   "name": "python",
   "nbconvert_exporter": "python",
   "pygments_lexer": "ipython3",
   "version": "3.10.6"
  }
 },
 "nbformat": 4,
 "nbformat_minor": 4
}
